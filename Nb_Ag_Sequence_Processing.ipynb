{
  "cells": [
    {
      "cell_type": "code",
      "execution_count": null,
      "id": "34f94ce5",
      "metadata": {
        "colab": {
          "base_uri": "https://localhost:8080/"
        },
        "id": "34f94ce5",
        "outputId": "4a338dbd-23ca-4a8b-d036-215caded6ae2"
      },
      "outputs": [
        {
          "output_type": "stream",
          "name": "stdout",
          "text": [
            "Packages imported\n"
          ]
        }
      ],
      "source": [
        "import numpy as np # linear algebra\n",
        "import pandas as pd # data processing, CSV file I/O (e.g. pd.read_csv)\n",
        "from sklearn.decomposition import TruncatedSVD\n",
        "import random\n",
        "# import seaborn as sns\n",
        "import os.path as path\n",
        "import os\n",
        "import matplotlib\n",
        "import matplotlib.font_manager\n",
        "import matplotlib.pyplot as plt # graphs plotting\n",
        "# from Bio import SeqIO # some BioPython that will come in handy\n",
        "#matplotlib inline\n",
        "import numpy\n",
        "import csv\n",
        "\n",
        "from matplotlib import rc\n",
        "\n",
        "from sklearn.model_selection import train_test_split\n",
        "from sklearn.linear_model import Lasso, LogisticRegression\n",
        "from sklearn.feature_selection import SelectFromModel\n",
        "from sklearn.preprocessing import StandardScaler\n",
        "\n",
        "from sklearn.datasets import load_iris\n",
        "from sklearn.model_selection import train_test_split\n",
        "from sklearn.naive_bayes import GaussianNB\n",
        "from sklearn import metrics\n",
        "from sklearn import svm\n",
        "\n",
        "from sklearn.datasets import load_iris\n",
        "from sklearn.model_selection import train_test_split\n",
        "from sklearn.naive_bayes import GaussianNB\n",
        "from sklearn import metrics\n",
        "\n",
        "import pandas as pd\n",
        "import sklearn\n",
        "from sklearn import preprocessing\n",
        "from sklearn.model_selection import train_test_split\n",
        "from sklearn.preprocessing import StandardScaler\n",
        "from sklearn.neural_network import MLPClassifier\n",
        "from sklearn.metrics import classification_report, confusion_matrix\n",
        "\n",
        "from sklearn.neighbors import KNeighborsClassifier\n",
        "\n",
        "from sklearn.linear_model import LogisticRegression\n",
        "from sklearn.metrics import classification_report, confusion_matrix\n",
        "\n",
        "from pandas import DataFrame\n",
        "\n",
        "from sklearn.model_selection import KFold\n",
        "from sklearn.model_selection import RepeatedKFold\n",
        "\n",
        "from sklearn.metrics import confusion_matrix\n",
        "\n",
        "from numpy import mean\n",
        "#from Bio.SeqUtils.ProtParam import ProteinAnalysis\n",
        "\n",
        "\n",
        "from itertools import cycle\n",
        "\n",
        "from sklearn import svm, datasets\n",
        "from sklearn.metrics import roc_curve, auc\n",
        "from sklearn.model_selection import train_test_split\n",
        "from sklearn.preprocessing import label_binarize\n",
        "from sklearn.multiclass import OneVsRestClassifier\n",
        "from scipy import interp\n",
        "from sklearn.metrics import roc_auc_score\n",
        "\n",
        "import statistics\n",
        "import pandas as pd\n",
        "import csv\n",
        "import numpy as np\n",
        "import itertools\n",
        "from itertools import product\n",
        "\n",
        "import timeit\n",
        "\n",
        "import math\n",
        "\n",
        "# for Arial typefont\n",
        "matplotlib.rcParams['font.family'] = 'Arial'\n",
        "\n",
        "print(\"Packages imported\")"
      ]
    },
    {
      "cell_type": "markdown",
      "source": [
        "# Reading Antigene Nanobody Dataset"
      ],
      "metadata": {
        "id": "BnhbfS_dMAdu"
      },
      "id": "BnhbfS_dMAdu"
    },
    {
      "cell_type": "code",
      "execution_count": null,
      "id": "716e4670",
      "metadata": {
        "id": "716e4670"
      },
      "outputs": [],
      "source": [
        "\n",
        "# Read the Excel file\n",
        "excel_file_path = 'sample_data/Ag_NbBindingDatawithSequences_Sheet1.csv'\n",
        "\n",
        "\n",
        "data = []\n",
        "\n",
        "Nb_Unique_ProteinIDs_Seqs_dic = dict()\n",
        "Ag_Unique_ProteinIDs_Seqs_dic = dict()\n",
        "\n",
        "counter = 0\n",
        "# Open the CSV file in text mode\n",
        "with open(excel_file_path, 'r') as file:\n",
        "    # Create a CSV reader\n",
        "    csv_reader = csv.reader(file)\n",
        "\n",
        "    # Loop over each row in the CSV file\n",
        "    for row in csv_reader:\n",
        "        if counter>0:\n",
        "            aa = str(row).split(\",\")\n",
        "            aa[0] = aa[0].replace(\"[\",\"\").replace(\"\\'\",\"\").replace(\" \",\"\").replace(\"]\",\"\")\n",
        "            aa[1] = aa[1].replace(\"[\",\"\").replace(\"\\'\",\"\").replace(\" \",\"\").replace(\"]\",\"\")\n",
        "            aa[2] = aa[2].replace(\"[\",\"\").replace(\"\\'\",\"\").replace(\" \",\"\").replace(\"]\",\"\")\n",
        "            aa[3] = aa[3].replace(\"[\",\"\").replace(\"\\'\",\"\").replace(\" \",\"\").replace(\"]\",\"\")\n",
        "            aa[4] = aa[4].replace(\"[\",\"\").replace(\"\\'\",\"\").replace(\" \",\"\").replace(\"]\",\"\")\n",
        "            aa[5] = aa[5].replace(\"[\",\"\").replace(\"\\'\",\"\").replace(\" \",\"\").replace(\"]\",\"\")\n",
        "            aa[6] = aa[6].replace(\"[\",\"\").replace(\"\\'\",\"\").replace(\" \",\"\").replace(\"]\",\"\")\n",
        "            aa[7] = aa[7].replace(\"[\",\"\").replace(\"\\'\",\"\").replace(\" \",\"\").replace(\"]\",\"\")\n",
        "            aa[8] = aa[8].replace(\"[\",\"\").replace(\"\\'\",\"\").replace(\" \",\"\").replace(\"]\",\"\")\n",
        "\n",
        "            data.append(aa)\n",
        "\n",
        "            sdAb_DB_ID.add((aa[0],))\n",
        "            NB_ID.add((aa[1],))\n",
        "            Nanobody_ID.add((aa[2],))\n",
        "            Source.add((aa[3],))\n",
        "            Antigen_ID.add((aa[4],))\n",
        "            Antigen.add((aa[5],))\n",
        "            Nanobody_Sequence.add((aa[6],))\n",
        "            Antigen_Sequence.add((aa[7],))\n",
        "            Ag_Unique_ProteinIDs.add((aa[8],))\n",
        "\n",
        "\n",
        "            Nb_Unique_ProteinIDs_Seqs_dic[aa[0]] = aa[6]\n",
        "\n",
        "            Ag_Unique_ProteinIDs_Seqs_dic[aa[8]] = aa[7]\n",
        "\n",
        "\n",
        "        counter = counter + 1\n",
        "#         print(row)\n"
      ]
    },
    {
      "cell_type": "code",
      "source": [
        "len(data)"
      ],
      "metadata": {
        "colab": {
          "base_uri": "https://localhost:8080/"
        },
        "id": "e0fIjn0YnBk4",
        "outputId": "5e9eaf24-3d45-4c63-ec88-c8d566ac3bf8"
      },
      "id": "e0fIjn0YnBk4",
      "execution_count": null,
      "outputs": [
        {
          "output_type": "execute_result",
          "data": {
            "text/plain": [
              "(365, 365, 365)"
            ]
          },
          "metadata": {},
          "execution_count": 17
        }
      ]
    },
    {
      "cell_type": "code",
      "source": [
        "len(sdAb_DB_ID) , len(NB_ID), len(Nanobody_ID), len(Source), len(Antigen_ID), len(Antigen), len(Nanobody_Sequence), len(Antigen_Sequence), len(Ag_Unique_ProteinIDs)\n"
      ],
      "metadata": {
        "colab": {
          "base_uri": "https://localhost:8080/"
        },
        "id": "ZtskoJWZuDso",
        "outputId": "c57fbd40-9c1f-49d9-de75-a3f13fdef568"
      },
      "id": "ZtskoJWZuDso",
      "execution_count": null,
      "outputs": [
        {
          "output_type": "execute_result",
          "data": {
            "text/plain": [
              "(365, 365, 317, 6, 47, 48, 357, 46, 46)"
            ]
          },
          "metadata": {},
          "execution_count": 18
        }
      ]
    },
    {
      "cell_type": "code",
      "source": [
        "Ag_Unique_ProteinIDs"
      ],
      "metadata": {
        "id": "MXh4qgDrv0gB"
      },
      "id": "MXh4qgDrv0gB",
      "execution_count": null,
      "outputs": []
    },
    {
      "cell_type": "code",
      "execution_count": null,
      "id": "613e72ad",
      "metadata": {
        "colab": {
          "base_uri": "https://localhost:8080/"
        },
        "id": "613e72ad",
        "outputId": "eb208e2e-627d-482b-b389-33b30d7f71b7"
      },
      "outputs": [
        {
          "output_type": "execute_result",
          "data": {
            "text/plain": [
              "(['sdAb_6274_Sy',\n",
              "  'NB_1_AG_1',\n",
              "  'NTV4',\n",
              "  'SyntheticConstruct',\n",
              "  'AG_1',\n",
              "  'Vascularendothelialgrowthfactor(VEGF)receptorVEGFR-2domain3(VEGFRD3)',\n",
              "  'MAQVQLLESGGGLVQPGGSLRLSCAASGVTITDEDMTRVRQAPGKGLEWVSSILNTGGSTYYADSVKGRFTISRDNSKNTLYLQMNSLRAEDTAVYYCAAVHEKAADMNFWGQGTLVTVSS',\n",
              "  'DHNPFISVEWLKGPILEATAGDELVKLPVKLAAYPPPEFQWYKDGKALSGRHSPHALVLKEVTEASTGTYTLALWNSAAGLRRNISLELVVNVPPQIHEKEASSPSIYSRHSRQALTCTAYGVPLPLSIQWHWRPWTPCKMFAQRSLRRRQQQDLMPQCRDWRAVTTQDAVNPIESLDTWTEFVEGKNKTVSKLVIQNANVSAMYKCVVSNKVGQDERLIYFYVTTHHHHHH',\n",
              "  '4BSJ_1'],\n",
              " 365)"
            ]
          },
          "metadata": {},
          "execution_count": 23
        }
      ],
      "source": [
        "(data[0]),len(data)"
      ]
    },
    {
      "cell_type": "code",
      "source": [
        "with open('sample_data/Ag_Unique_ProteinIDs_Seqs_dic.pickle','wb') as binary_writer:\n",
        "    pickle.dump(Ag_Unique_ProteinIDs_Seqs_dic,binary_writer)\n"
      ],
      "metadata": {
        "id": "989XuuecYaLM"
      },
      "id": "989XuuecYaLM",
      "execution_count": null,
      "outputs": []
    },
    {
      "cell_type": "code",
      "execution_count": null,
      "id": "d57f65ee",
      "metadata": {
        "colab": {
          "base_uri": "https://localhost:8080/",
          "height": 53
        },
        "id": "d57f65ee",
        "outputId": "1ad8cfe7-5391-4d9d-c19c-3aeafad8d532"
      },
      "outputs": [
        {
          "output_type": "execute_result",
          "data": {
            "text/plain": [
              "'MAQVQLLESGGGLVQPGGSLRLSCAASGVTITDEDMTRVRQAPGKGLEWVSSILNTGGSTYYADSVKGRFTISRDNSKNTLYLQMNSLRAEDTAVYYCAAVHEKAADMNFWGQGTLVTVSS'"
            ],
            "application/vnd.google.colaboratory.intrinsic+json": {
              "type": "string"
            }
          },
          "metadata": {},
          "execution_count": 31
        }
      ],
      "source": [
        "(data[0][6])"
      ]
    },
    {
      "cell_type": "code",
      "execution_count": null,
      "id": "c6a41ea6",
      "metadata": {
        "colab": {
          "base_uri": "https://localhost:8080/"
        },
        "id": "c6a41ea6",
        "outputId": "f090374f-b0af-48a7-9954-66830562be87"
      },
      "outputs": [
        {
          "output_type": "execute_result",
          "data": {
            "text/plain": [
              "121"
            ]
          },
          "metadata": {},
          "execution_count": 32
        }
      ],
      "source": [
        "len(data[0][6])"
      ]
    },
    {
      "cell_type": "code",
      "execution_count": null,
      "id": "7e418be1",
      "metadata": {
        "colab": {
          "base_uri": "https://localhost:8080/",
          "height": 53
        },
        "id": "7e418be1",
        "outputId": "a28136dc-c592-45b1-b42d-b0c7fa62a8d1"
      },
      "outputs": [
        {
          "output_type": "execute_result",
          "data": {
            "text/plain": [
              "'DHNPFISVEWLKGPILEATAGDELVKLPVKLAAYPPPEFQWYKDGKALSGRHSPHALVLKEVTEASTGTYTLALWNSAAGLRRNISLELVVNVPPQIHEKEASSPSIYSRHSRQALTCTAYGVPLPLSIQWHWRPWTPCKMFAQRSLRRRQQQDLMPQCRDWRAVTTQDAVNPIESLDTWTEFVEGKNKTVSKLVIQNANVSAMYKCVVSNKVGQDERLIYFYVTTHHHHHH'"
            ],
            "application/vnd.google.colaboratory.intrinsic+json": {
              "type": "string"
            }
          },
          "metadata": {},
          "execution_count": 33
        }
      ],
      "source": [
        "(data[0][7])"
      ]
    },
    {
      "cell_type": "code",
      "execution_count": null,
      "id": "e039e46e",
      "metadata": {
        "colab": {
          "base_uri": "https://localhost:8080/"
        },
        "id": "e039e46e",
        "outputId": "f159a2dc-2685-4f3f-e79a-4ab287069cc9"
      },
      "outputs": [
        {
          "output_type": "execute_result",
          "data": {
            "text/plain": [
              "232"
            ]
          },
          "metadata": {},
          "execution_count": 34
        }
      ],
      "source": [
        "len(data[0][7])"
      ]
    },
    {
      "cell_type": "markdown",
      "source": [
        "# Reading Alignment Distance Matrix"
      ],
      "metadata": {
        "id": "HUtjAuMaMMZ2"
      },
      "id": "HUtjAuMaMMZ2"
    },
    {
      "cell_type": "code",
      "execution_count": null,
      "id": "b971f0f2",
      "metadata": {
        "id": "b971f0f2"
      },
      "outputs": [],
      "source": [
        "\n",
        "# Read the Excel file\n",
        "excel_file_path = 'sample_data/Antibodies_Pairwise_Distance_Matrix.csv'\n",
        "\n",
        "\n",
        "distance_matrix = []\n",
        "header_name = []\n",
        "\n",
        "counter = 0\n",
        "# Open the CSV file in text mode\n",
        "with open(excel_file_path, 'r') as file:\n",
        "    # Create a CSV reader\n",
        "    csv_reader = csv.reader(file)\n",
        "\n",
        "    # Loop over each row in the CSV file\n",
        "    for row in csv_reader:\n",
        "        if counter>0:\n",
        "            aa = str(row).split(\",\")\n",
        "            aa_arr = []\n",
        "            for j in range(1,len(aa)):\n",
        "                aa_arr.append(float(aa[j].replace(\" \",\"\").replace(\"\\'\",\"\").replace(\"]\",\"\")))\n",
        "            distance_matrix.append(aa_arr)\n",
        "            header_name.append(aa[0].replace(\"[\",\"\").replace(\"]\",\"\").replace(\"\\'\",\"\").replace(\" \",\"\"))\n",
        "        counter = counter + 1\n",
        "#         print(row)\n"
      ]
    },
    {
      "cell_type": "code",
      "execution_count": null,
      "id": "3ae9a665",
      "metadata": {
        "colab": {
          "base_uri": "https://localhost:8080/"
        },
        "id": "3ae9a665",
        "outputId": "e99cda67-590d-4db9-a549-5b3ee6d47907"
      },
      "outputs": [
        {
          "output_type": "execute_result",
          "data": {
            "text/plain": [
              "(['AG_1',\n",
              "  'AG_2',\n",
              "  'AG_3',\n",
              "  'AG_39',\n",
              "  'AG_4',\n",
              "  'AG_5',\n",
              "  'AG_6',\n",
              "  'AG_7',\n",
              "  'AG_8',\n",
              "  'AG_10'],\n",
              " 47)"
            ]
          },
          "metadata": {},
          "execution_count": 37
        }
      ],
      "source": [
        "header_name[0:10],len(header_name)"
      ]
    },
    {
      "cell_type": "code",
      "execution_count": null,
      "id": "1ef73d4b",
      "metadata": {
        "id": "1ef73d4b"
      },
      "outputs": [],
      "source": [
        "nanobody_sequences = []\n",
        "len_nanobody_sequences = []\n",
        "antigene_sequences = []\n",
        "len_antigene_sequences = []\n",
        "binding_label = []\n",
        "nanobody_name = []\n",
        "antigen_name = []\n",
        "antigene_id_org = []\n",
        "antigene_uniprot_id = []\n",
        "for i in range(len(data)):\n",
        "    temp = data[i]\n",
        "    nanobody_sequences.append(temp[6])\n",
        "    len_nanobody_sequences.append(len(temp[6]))\n",
        "    antigene_sequences.append(temp[7])\n",
        "    len_antigene_sequences.append(len(temp[7]))\n",
        "    binding_label.append(\"Yes\")\n",
        "    nanobody_name.append(temp[2])\n",
        "    antigen_name.append(temp[5])\n",
        "    antigene_id_org.append(temp[4])\n",
        "    antigene_uniprot_id.append(temp[8])"
      ]
    },
    {
      "cell_type": "code",
      "source": [
        "len(antigene_uniprot_id)"
      ],
      "metadata": {
        "colab": {
          "base_uri": "https://localhost:8080/"
        },
        "id": "QjDwgnhUeQOv",
        "outputId": "55088bc8-7366-4d57-d068-132a9930a1f7"
      },
      "id": "QjDwgnhUeQOv",
      "execution_count": null,
      "outputs": [
        {
          "output_type": "execute_result",
          "data": {
            "text/plain": [
              "365"
            ]
          },
          "metadata": {},
          "execution_count": 39
        }
      ]
    },
    {
      "cell_type": "code",
      "source": [
        "antigene_uniprot_id"
      ],
      "metadata": {
        "id": "AHGhGLXseVsl"
      },
      "id": "AHGhGLXseVsl",
      "execution_count": null,
      "outputs": []
    },
    {
      "cell_type": "code",
      "execution_count": null,
      "id": "81928fb3",
      "metadata": {
        "colab": {
          "base_uri": "https://localhost:8080/"
        },
        "id": "81928fb3",
        "outputId": "198bfbf9-2b30-4a03-bc93-88d0da9158fd"
      },
      "outputs": [
        {
          "output_type": "execute_result",
          "data": {
            "text/plain": [
              "(365, 'AG_1', 121, 232, '4BSJ_1')"
            ]
          },
          "metadata": {},
          "execution_count": 41
        }
      ],
      "source": [
        "len(nanobody_sequences),antigene_id_org[0],len_nanobody_sequences[0],len_antigene_sequences[0], antigene_uniprot_id[0]"
      ]
    },
    {
      "cell_type": "markdown",
      "source": [
        "# Max and Min Length of Antigens"
      ],
      "metadata": {
        "id": "nh46stzBMl0a"
      },
      "id": "nh46stzBMl0a"
    },
    {
      "cell_type": "code",
      "execution_count": null,
      "id": "35911191",
      "metadata": {
        "colab": {
          "base_uri": "https://localhost:8080/"
        },
        "id": "35911191",
        "outputId": "781354ce-3e93-4c9a-d9a7-0bc0d62d6c4d"
      },
      "outputs": [
        {
          "output_type": "execute_result",
          "data": {
            "text/plain": [
              "(1816, 158)"
            ]
          },
          "metadata": {},
          "execution_count": 42
        }
      ],
      "source": [
        "max(len_antigene_sequences),min(len_antigene_sequences)"
      ]
    },
    {
      "cell_type": "markdown",
      "source": [
        "# Max and Min Length of Antibodies"
      ],
      "metadata": {
        "id": "aTGHGwUdMuXF"
      },
      "id": "aTGHGwUdMuXF"
    },
    {
      "cell_type": "code",
      "execution_count": null,
      "id": "4150d92d",
      "metadata": {
        "colab": {
          "base_uri": "https://localhost:8080/"
        },
        "id": "4150d92d",
        "outputId": "63889431-28b3-4228-fddc-5a2dcbcaa34f"
      },
      "outputs": [
        {
          "output_type": "execute_result",
          "data": {
            "text/plain": [
              "(175, 104)"
            ]
          },
          "metadata": {},
          "execution_count": 43
        }
      ],
      "source": [
        "max(len_nanobody_sequences),min(len_nanobody_sequences)"
      ]
    },
    {
      "cell_type": "markdown",
      "source": [
        "# Getting all possible NOT binding information"
      ],
      "metadata": {
        "id": "2h0Lkm1ZMgSy"
      },
      "id": "2h0Lkm1ZMgSy"
    },
    {
      "cell_type": "code",
      "execution_count": null,
      "id": "c858ef6e",
      "metadata": {
        "id": "c858ef6e"
      },
      "outputs": [],
      "source": [
        "nanobody_sequences_NO = []\n",
        "antigene_sequences_NO = []\n",
        "binding_label_NO = []\n",
        "nanobody_name_NO = []\n",
        "antigen_name_NO = []\n",
        "antigene_uniprot_id_NO = []\n",
        "antigene_id_NO = []\n",
        "antigene_id_YES = []\n",
        "\n",
        "\n",
        "for i in range(len(nanobody_sequences)):\n",
        "    name_NB = nanobody_name[i]\n",
        "    name_AG = antigen_name[i]\n",
        "    nb_seq = nanobody_sequences[i]\n",
        "    antigene_id_test = antigene_id_org[i]\n",
        "    for j in range(len(nanobody_sequences)):\n",
        "        name_AG_new = antigen_name[j]\n",
        "        if name_AG==name_AG_new:\n",
        "            a=1\n",
        "        else:\n",
        "            nanobody_sequences_NO.append(nb_seq)\n",
        "            antigene_sequences_NO.append(antigene_sequences[j])\n",
        "            antigene_uniprot_id_NO.append(antigene_uniprot_id[j])\n",
        "            binding_label_NO.append(\"No\")\n",
        "            nanobody_name_NO.append(nanobody_name[j])\n",
        "            antigen_name_NO.append(antigen_name[j])\n",
        "            antigene_id_NO.append(antigene_id_org[j])\n",
        "            antigene_id_YES.append(antigene_id_test)"
      ]
    },
    {
      "cell_type": "code",
      "source": [
        "antigene_id_YES[0:10],antigene_id_NO[0:10],len(antigene_id_NO), len(antigene_id_YES), len(antigene_uniprot_id_NO)\n"
      ],
      "metadata": {
        "colab": {
          "base_uri": "https://localhost:8080/"
        },
        "id": "vjgbc3XQeD-d",
        "outputId": "d7a24131-b436-4de6-a468-a5f498284d9e"
      },
      "id": "vjgbc3XQeD-d",
      "execution_count": null,
      "outputs": [
        {
          "output_type": "execute_result",
          "data": {
            "text/plain": [
              "(['AG_1',\n",
              "  'AG_1',\n",
              "  'AG_1',\n",
              "  'AG_1',\n",
              "  'AG_1',\n",
              "  'AG_1',\n",
              "  'AG_1',\n",
              "  'AG_1',\n",
              "  'AG_1',\n",
              "  'AG_1'],\n",
              " ['AG_2',\n",
              "  'AG_3',\n",
              "  'AG_3',\n",
              "  'AG_3',\n",
              "  'AG_3',\n",
              "  'AG_39',\n",
              "  'AG_39',\n",
              "  'AG_4',\n",
              "  'AG_5',\n",
              "  'AG_6'],\n",
              " 126490,\n",
              " 126490,\n",
              " 126490)"
            ]
          },
          "metadata": {},
          "execution_count": 48
        }
      ]
    },
    {
      "cell_type": "code",
      "execution_count": null,
      "id": "d06b859c",
      "metadata": {
        "id": "d06b859c"
      },
      "outputs": [],
      "source": [
        "distance_values = []\n",
        "\n",
        "for i in range(len(nanobody_sequences_NO)):\n",
        "# for i in range(0,10):\n",
        "    row_id = antigene_id_YES[i]\n",
        "    row_val = (np.where(np.array(header_name) == row_id))[0][0]\n",
        "\n",
        "    col_id = antigene_id_NO[i]\n",
        "    col_val = (np.where(np.array(header_name) == col_id))[0][0]\n",
        "\n",
        "#     print(row_val,\",\",col_val)\n",
        "\n",
        "    distance_values.append(np.array(distance_matrix)[row_val,col_val])"
      ]
    },
    {
      "cell_type": "code",
      "execution_count": null,
      "id": "79b231a6",
      "metadata": {
        "colab": {
          "base_uri": "https://localhost:8080/"
        },
        "id": "79b231a6",
        "outputId": "c026671a-fbdb-4bad-f414-2f891b6c0309"
      },
      "outputs": [
        {
          "output_type": "execute_result",
          "data": {
            "text/plain": [
              "('AG_8', 'AG_47', 'P30996', 0.89, 126490, 126490)"
            ]
          },
          "metadata": {},
          "execution_count": 51
        }
      ],
      "source": [
        "id_val = 10000\n",
        "antigene_id_YES[id_val],antigene_id_NO[id_val],antigene_uniprot_id_NO[id_val],distance_values[id_val],len(distance_values),len(nanobody_sequences_NO)"
      ]
    },
    {
      "cell_type": "markdown",
      "source": [
        "# Filter based on distance values"
      ],
      "metadata": {
        "id": "p1qZmmGrNLEj"
      },
      "id": "p1qZmmGrNLEj"
    },
    {
      "cell_type": "code",
      "execution_count": null,
      "id": "0856e865",
      "metadata": {
        "colab": {
          "base_uri": "https://localhost:8080/"
        },
        "id": "0856e865",
        "outputId": "ccc38328-db43-4bd5-b37f-79f0b762f59d"
      },
      "outputs": [
        {
          "output_type": "execute_result",
          "data": {
            "text/plain": [
              "(108050, 108050, 108050, 126490)"
            ]
          },
          "metadata": {},
          "execution_count": 53
        }
      ],
      "source": [
        "filtered_No_nanobody_sequences = []\n",
        "filtered_No_antigene_sequences = []\n",
        "filtered_No_distance_values = []\n",
        "filtered_No_label_value = []\n",
        "filtered_No_antigene_uniprot_id = []\n",
        "No_distance_value_threshold = 0.85\n",
        "\n",
        "for i in range(len(distance_values)):\n",
        "    if distance_values[i] >= No_distance_value_threshold:\n",
        "        filtered_No_nanobody_sequences.append(nanobody_sequences_NO[i])\n",
        "        filtered_No_antigene_sequences.append(antigene_sequences_NO[i])\n",
        "        filtered_No_antigene_uniprot_id.append(antigene_uniprot_id_NO[i])\n",
        "        filtered_No_distance_values.append(distance_values[i])\n",
        "        filtered_No_label_value.append(\"No\")\n",
        "\n",
        "len(filtered_No_nanobody_sequences), len(filtered_No_antigene_uniprot_id),len(filtered_No_antigene_uniprot_id),len(nanobody_sequences_NO)"
      ]
    },
    {
      "cell_type": "code",
      "execution_count": null,
      "id": "6719460a",
      "metadata": {
        "colab": {
          "base_uri": "https://localhost:8080/"
        },
        "id": "6719460a",
        "outputId": "f095712d-2c58-4d60-d70e-ae78bf510576"
      },
      "outputs": [
        {
          "output_type": "execute_result",
          "data": {
            "text/plain": [
              "(1388, 1388, 126490)"
            ]
          },
          "metadata": {},
          "execution_count": 55
        }
      ],
      "source": [
        "filtered_Yes_nanobody_sequences = []\n",
        "filtered_Yes_antigene_sequences = []\n",
        "filtered_Yes_distance_values = []\n",
        "filtered_Yes_label_value = []\n",
        "filtered_Yes_antigene_uniprot_id = []\n",
        "\n",
        "Yes_distance_value_threshold = 0.20\n",
        "\n",
        "for i in range(len(distance_values)):\n",
        "    if distance_values[i] <= Yes_distance_value_threshold:\n",
        "        filtered_Yes_nanobody_sequences.append(nanobody_sequences_NO[i])\n",
        "        filtered_Yes_antigene_sequences.append(antigene_sequences_NO[i])\n",
        "        filtered_Yes_antigene_uniprot_id.append(antigene_uniprot_id_NO[i])\n",
        "        filtered_Yes_distance_values.append(distance_values[i])\n",
        "        filtered_Yes_label_value.append(\"Yes\")\n",
        "\n",
        "len(filtered_Yes_nanobody_sequences),len(filtered_Yes_antigene_uniprot_id),len(nanobody_sequences_NO)"
      ]
    },
    {
      "cell_type": "markdown",
      "source": [
        "#Combine filtered_No lists as one list of tubles"
      ],
      "metadata": {
        "id": "ZkGFjKDTnum7"
      },
      "id": "ZkGFjKDTnum7"
    },
    {
      "cell_type": "code",
      "source": [
        "len(filtered_No_nanobody_sequences), len(filtered_No_antigene_sequences), len(filtered_No_label_value), len(filtered_No_antigene_uniprot_id)"
      ],
      "metadata": {
        "colab": {
          "base_uri": "https://localhost:8080/"
        },
        "id": "Qix7XBZBoKPf",
        "outputId": "83f2e401-b26f-4aee-c452-94783e8970dc"
      },
      "id": "Qix7XBZBoKPf",
      "execution_count": null,
      "outputs": [
        {
          "output_type": "execute_result",
          "data": {
            "text/plain": [
              "(108050, 108050, 108050, 108050)"
            ]
          },
          "metadata": {},
          "execution_count": 77
        }
      ]
    },
    {
      "cell_type": "code",
      "source": [
        "filtered_No_combine = []\n",
        "for i in range(len(filtered_No_nanobody_sequences)):\n",
        "  filtered_No_combine.append((filtered_No_nanobody_sequences[i], filtered_No_antigene_sequences[i], filtered_No_antigene_uniprot_id[i], filtered_No_label_value[i]))\n",
        "len(filtered_No_combine)"
      ],
      "metadata": {
        "id": "J7hKpa7Hn567"
      },
      "id": "J7hKpa7Hn567",
      "execution_count": null,
      "outputs": []
    },
    {
      "cell_type": "code",
      "source": [
        "# nanobody_sequences = []\n",
        "# antigene_sequences = []\n",
        "# binding_label = []\n",
        "# antigene_uniprot_id = []\n",
        "\n",
        "# filtered_Yes_nanobody_sequences = []\n",
        "# filtered_Yes_antigene_sequences = []\n",
        "# filtered_Yes_label_value = []\n",
        "# filtered_Yes_antigene_uniprot_id = []\n",
        "\n",
        "full_yes_combine = []\n",
        "\n",
        "for i in range(len(nanobody_sequences)):\n",
        "  full_yes_combine.append((nanobody_sequences[i], antigene_sequences[i], antigene_uniprot_id[i], binding_label[i]))\n",
        "\n",
        "for i in range(len(filtered_Yes_nanobody_sequences)):\n",
        "  full_yes_combine.append((filtered_Yes_nanobody_sequences[i], filtered_Yes_antigene_sequences[i], filtered_Yes_antigene_uniprot_id[i], filtered_Yes_label_value[i]))\n"
      ],
      "metadata": {
        "id": "75PEvY0AvcFx"
      },
      "id": "75PEvY0AvcFx",
      "execution_count": null,
      "outputs": []
    },
    {
      "cell_type": "code",
      "source": [
        "len(nanobody_sequences), len(filtered_Yes_nanobody_sequences), len(nanobody_sequences)+len(filtered_Yes_nanobody_sequences), len(full_yes_combine)"
      ],
      "metadata": {
        "colab": {
          "base_uri": "https://localhost:8080/"
        },
        "id": "7CEw6N4LKZdA",
        "outputId": "8930fe49-81db-4aab-86e3-c757bbd96c6e"
      },
      "id": "7CEw6N4LKZdA",
      "execution_count": null,
      "outputs": [
        {
          "output_type": "execute_result",
          "data": {
            "text/plain": [
              "(365, 1388, 1753, 1753)"
            ]
          },
          "metadata": {},
          "execution_count": 115
        }
      ]
    },
    {
      "cell_type": "code",
      "source": [
        "full_yes_combine[100]"
      ],
      "metadata": {
        "colab": {
          "base_uri": "https://localhost:8080/"
        },
        "id": "0p0GNYLR2EJM",
        "outputId": "da49bce1-122e-4f28-e1a9-62fa758ecc28"
      },
      "id": "0p0GNYLR2EJM",
      "execution_count": null,
      "outputs": [
        {
          "output_type": "execute_result",
          "data": {
            "text/plain": [
              "('QVQLQESGGGLVQAGGSLRLSCAASGFTLDSYAIGWFRQAPGKEREGVSCISASGGSTNYADSVKGRFTISRDNAKNTVYLQMNSLKSEDTAVYYCAADHPGLCTSESGRRRYLEVWGQGTQVTVSSA',\n",
              " 'MRALLARLLLCVLVVSDSKGSNELHQVPSNCDCLNGGTCVSNKYFSNIHWCNCPKKFGGQHCEIDKSKTCYEGNGHFYRGKASTDTMGRPCLPWNSATVLQQTYHAHRSDALQLGLGKHNYCRNPDNRRRPWCYVQVGLKLLVQECMVHDCADGKKPSSPPEELKFQCGQKTLRPRFKIIGGEFTTIENQPWFAAIYRRHRGGSVTYVCGGSLISPCWVISATHCFIDYPKKEDYIVYLGRSRLNSNTQGEMKFEVENLILHKDYSADTLAHHNDIALLKIRSKEGRCAQPSRTIQTICLPSMYNDPQFGTSCEITGFGKENSTDYLYPEQLKMTVVKLISHRECQQPHYYGSEVTTKMLCAADPQWKTDSCQGDSGGPLVCSLQGRMTLTGIVSWGRGCALKDKPGVYTRVSHFLPWIRSHTKEENGLAL',\n",
              " 'P00749',\n",
              " 'Yes')"
            ]
          },
          "metadata": {},
          "execution_count": 99
        }
      ]
    },
    {
      "cell_type": "markdown",
      "source": [
        "# Getting Random Subset"
      ],
      "metadata": {
        "id": "RsUfMD9KNTBl"
      },
      "id": "RsUfMD9KNTBl"
    },
    {
      "cell_type": "code",
      "source": [
        "import random\n",
        "from random import sample\n",
        "random.seed(123)\n",
        "# construct negative examples:\n",
        "filtered_No_combine_random_rows = []\n",
        "\n",
        "for _ in range(len(full_yes_combine)):\n",
        "    filtered_No_combine_random_rows.append(sample(filtered_No_combine, 1)[0])\n",
        "\n"
      ],
      "metadata": {
        "id": "pcZhPzCDs9Di"
      },
      "id": "pcZhPzCDs9Di",
      "execution_count": null,
      "outputs": []
    },
    {
      "cell_type": "code",
      "source": [
        "filtered_No_combine_random_rows[0]"
      ],
      "metadata": {
        "colab": {
          "base_uri": "https://localhost:8080/"
        },
        "id": "U5bPO7gRuWXn",
        "outputId": "9bce58fb-212e-44d9-b34f-000a068ff1b2"
      },
      "id": "U5bPO7gRuWXn",
      "execution_count": null,
      "outputs": [
        {
          "output_type": "execute_result",
          "data": {
            "text/plain": [
              "('QVQLQESGGGSVQAGGSLRLSCAASGSSYSRFRMGWFRQVPGKEREGVAAIYRSDGRTYYADSVKGRFTISQDNTKNTVYLQMNSLKREDTAMYYCAAGAYSSYLMDANFAYWGQGTQVTVSS',\n",
              " 'MPVNIKXFNYNDPINNDDIIMMEPFNDPGPGTYYKAFRIIDRIWIVPERFTYGFQPDQFNASTGVFSKDVYEYYDPTYLKTDAEKDKFLKTMIKLFNRINSKPSGQRLLDMIVDAIPYLGNASTPPDKFAANVANVSINKKIIQPGAEDQIKGLMTNLIIFGPGPVLSDNFTDSMIMNGHSPISEGFGARMMIRFCPSCLNVFNNVQENKDTSIFSRRAYFADPALTLMHELIHVLHGLYGIKISNLPITPNTKEFFMQHSDPVQAEELYTFGGHDPSVISPSTDMNIYNKALQNFQDIANRLNIVSSAQGSGIDISLYKQIYKNKYDFVEDPNGKYSVDKDKFDKLYKALMFGFTETNLAGEYGIKTRYSYFSEYLPPIKTEKLLDNTIYTQNEGFNIASKNLKTEFNGQNKAVNKEAYEEISLEHLVIYRIAMCKPVMYKNTGKSEQCIIVNNEDLFFIANKDSFSKDLAKAETIAYNTQNNTIENNFSIDQLILDNDLSSGIDLPNENTEPFTNFDDIDIPVYIKQSALKKIFVDGDSLFEYLHAQTFPSNIENLQLTNSLNDALRNNNKVYTFFSTNLVEKANTVVGASLFVNWVKGVIDDFTSESTQKSTIDKVSDVSIIIPYIGPALNVGNETAKENFKNAFEIGGAAILMEFIPELIVPIVGFFTLESYVGNKGHIIMTISNALKKRDQKWTDMYGLIVSQWLSTVNTQFYTIKERMYNALNNQSQAIEKIIEDQYNRYSEEDKMNINIDFNDIDFKLNQSINLAINNIDDFINQCSISYLMNRMIPLAVKKLKDFDDNLKRDLLEYIDTNELYLLDEVNILKSKVNRHLKDSIPFDLSLYTKDTILIQVFNNYISNISSNAILSLSYRGGRLIDSSGYGATMNVGSDVIFNDIGNGQFKLNNSENSNITAHQSKFVVYDSMFDNFSINFWVRTPKYNNNDIQTYLQNEYTIISCIKNDSGWKVSIKGNRIIWTLIDVNAKSKSIFFEYSIKDNISDYINKWFSITITNDRLGNANIYINGSLKKSEKILNLDRINSSNDIDFKLINCTDTTKFVWIKDFNIFGRELNATEVSSLYWIQSSTNTLKDFWGNPLRYDTQYYLFNQGMQNIYIKYFSKASMGETAPRTNFNNAAINYQNLYLGLRFIIKKASNSRNINNDNIVREGDYIYLNIDNISDESYRVYVLVNSKEIQTQLFLAPINDDPTFYDVLQIKKYYEKTTYNCQILCEKDTKTFGLFGIGKFVKDYGYVWDTYDNYFCISQWYLRRISENINKLRLGCNWQFIPVDEGWTE',\n",
              " 'Q60393',\n",
              " 'No')"
            ]
          },
          "metadata": {},
          "execution_count": 90
        }
      ]
    },
    {
      "cell_type": "code",
      "execution_count": null,
      "id": "ca778a50",
      "metadata": {
        "id": "ca778a50"
      },
      "outputs": [],
      "source": [
        "# # Set the random seed for reproducibility\n",
        "# np.random.seed(123)\n",
        "\n",
        "# # Calculate the number of rows to select (20% of the total rows)\n",
        "# rows_percentage_selected = 1.6\n",
        "# num_rows = int((rows_percentage_selected/100) * len(filtered_No_nanobody_sequences))\n",
        "# # Select random rows\n",
        "# filtered_No_combine_random_rows = np.random.choice(filtered_No_combine, size=num_rows, replace=False)\n",
        "# # nanobody_sequences_NO_random_rows = np.random.choice(filtered_No_nanobody_sequences, size=num_rows, replace=False)\n",
        "# # antigene_sequences_NO_random_rows = np.random.choice(filtered_No_antigene_sequences, size=num_rows, replace=False)\n",
        "# # binding_label_NO_random_rows = np.random.choice(filtered_No_label_value, size=num_rows, replace=False)\n",
        "\n",
        "# # len(nanobody_sequences_NO_random_rows),len(filtered_No_nanobody_sequences)\n",
        "# len(filtered_No_combine_random_rows),len(filtered_No_nanobody_sequences)"
      ]
    },
    {
      "cell_type": "code",
      "execution_count": null,
      "id": "cc713d1f",
      "metadata": {
        "colab": {
          "base_uri": "https://localhost:8080/",
          "height": 53
        },
        "id": "cc713d1f",
        "outputId": "2efc854f-4204-49f6-8d16-eeea93c6b87b"
      },
      "outputs": [
        {
          "output_type": "execute_result",
          "data": {
            "text/plain": [
              "'DVQLVESGGGLVQPGGSLRLSCAASGFTFSSYYMSWARQAPGKGPEWVSTINTGGGRMGYADSVKGRFTISRDNTKNTLYLHMNSLKPEDTALYYCARGDYDDSLRRRYWGQGTQVTVSS'"
            ],
            "application/vnd.google.colaboratory.intrinsic+json": {
              "type": "string"
            }
          },
          "metadata": {},
          "execution_count": 20
        }
      ],
      "source": [
        "nanobody_sequences_NO_random_rows[0]"
      ]
    },
    {
      "cell_type": "markdown",
      "source": [
        "# Merging Data"
      ],
      "metadata": {
        "id": "KknWXXRANZ7i"
      },
      "id": "KknWXXRANZ7i"
    },
    {
      "cell_type": "code",
      "source": [
        "Nb_Ag_full_dataset = []\n",
        "\n",
        "for i in range(len(full_yes_combine)):\n",
        "  Nb_Ag_full_dataset.append(full_yes_combine[i])\n",
        "\n",
        "for i in range(len(filtered_No_combine_random_rows)):\n",
        "  Nb_Ag_full_dataset.append(filtered_No_combine_random_rows[i])\n",
        "\n",
        "len(full_yes_combine),  len(filtered_No_combine_random_rows), len(Nb_Ag_full_dataset)\n"
      ],
      "metadata": {
        "colab": {
          "base_uri": "https://localhost:8080/"
        },
        "id": "UoyKujnRyrZI",
        "outputId": "295ce7e0-8c91-4b8f-edcb-37c869f1d615"
      },
      "id": "UoyKujnRyrZI",
      "execution_count": null,
      "outputs": [
        {
          "output_type": "execute_result",
          "data": {
            "text/plain": [
              "(1753, 1753, 3506)"
            ]
          },
          "metadata": {},
          "execution_count": 91
        }
      ]
    },
    {
      "cell_type": "markdown",
      "source": [
        "# Store Nb_Ag_full_dataset locally"
      ],
      "metadata": {
        "id": "TZR1r9EL0E0N"
      },
      "id": "TZR1r9EL0E0N"
    },
    {
      "cell_type": "code",
      "source": [
        "with open('sample_data/Nb_Ag_full_dataset.pickle', 'wb') as binary_writer:\n",
        "    pickle.dump(Nb_Ag_full_dataset,binary_writer)\n"
      ],
      "metadata": {
        "id": "AWax8BO20Iyk"
      },
      "id": "AWax8BO20Iyk",
      "execution_count": null,
      "outputs": []
    },
    {
      "cell_type": "code",
      "source": [
        "with open('sample_data/full_yes_combine.pickle', 'wb') as binary_writer:\n",
        "    pickle.dump(full_yes_combine,binary_writer)\n",
        "\n",
        "with open('sample_data/filtered_No_combine_random_rows.pickle', 'wb') as binary_writer:\n",
        "    pickle.dump(filtered_No_combine_random_rows,binary_writer)"
      ],
      "metadata": {
        "id": "dYF4qifg2SAd"
      },
      "id": "dYF4qifg2SAd",
      "execution_count": null,
      "outputs": []
    },
    {
      "cell_type": "code",
      "execution_count": null,
      "id": "1ed27db1",
      "metadata": {
        "colab": {
          "base_uri": "https://localhost:8080/"
        },
        "id": "1ed27db1",
        "outputId": "8de659b8-8f63-4526-a845-8a54fde65e15"
      },
      "outputs": [
        {
          "output_type": "execute_result",
          "data": {
            "text/plain": [
              "(365, 1728, 1388, 3481)"
            ]
          },
          "metadata": {},
          "execution_count": 22
        }
      ],
      "source": [
        "# nanobody_sequences_full = nanobody_sequences[:]\n",
        "# antigene_sequences_full = antigene_sequences[:]\n",
        "# labels_full = binding_label[:]\n",
        "\n",
        "# for i in range(len(nanobody_sequences_NO_random_rows)):\n",
        "#     nanobody_sequences_full.append(nanobody_sequences_NO_random_rows[i])\n",
        "#     antigene_sequences_full.append(antigene_sequences_NO_random_rows[i])\n",
        "#     labels_full.append(binding_label_NO_random_rows[i])\n",
        "\n",
        "\n",
        "# # filtered_Yes_nanobody_sequences.append(nanobody_sequences_NO[i])\n",
        "# # filtered_Yes_antigene_sequences.append(antigene_sequences_NO[i])\n",
        "# # filtered_Yes_distance_values.append(distance_values[i])\n",
        "# # filtered_Yes_label_value.append(\"Yes\")\n",
        "\n",
        "# for i in range(len(filtered_Yes_nanobody_sequences)):\n",
        "#     nanobody_sequences_full.append(filtered_Yes_nanobody_sequences[i])\n",
        "#     antigene_sequences_full.append(filtered_Yes_antigene_sequences[i])\n",
        "#     labels_full.append(filtered_Yes_label_value[i])\n",
        "\n",
        "\n",
        "# len(nanobody_sequences),len(nanobody_sequences_NO_random_rows),len(filtered_Yes_nanobody_sequences),len(nanobody_sequences_full)"
      ]
    },
    {
      "cell_type": "code",
      "source": [
        "len(nanobody_sequences_full) , len(antigene_sequences_full), len(labels_full)"
      ],
      "metadata": {
        "colab": {
          "base_uri": "https://localhost:8080/"
        },
        "id": "kbnTBtH8BpOB",
        "outputId": "0bb6e884-62f3-4535-af01-3c5cdd4db1c0"
      },
      "id": "kbnTBtH8BpOB",
      "execution_count": null,
      "outputs": [
        {
          "output_type": "execute_result",
          "data": {
            "text/plain": [
              "(3481, 3481, 3481)"
            ]
          },
          "metadata": {},
          "execution_count": 28
        }
      ]
    },
    {
      "cell_type": "code",
      "source": [
        "Nb_Ag_pairs_full = set()\n",
        "i=0\n",
        "for nb, ag, label in zip(nanobody_sequences_full, antigene_sequences_full, labels_full ):\n",
        "  Nb_Ag_pairs_full.add((nb, ag, label))\n",
        "  i += 1\n",
        "print(i)"
      ],
      "metadata": {
        "colab": {
          "base_uri": "https://localhost:8080/"
        },
        "id": "NRCbAyA_9wDv",
        "outputId": "a6e3cfde-b203-4bf4-cfb1-bf77ae661170"
      },
      "id": "NRCbAyA_9wDv",
      "execution_count": null,
      "outputs": [
        {
          "output_type": "stream",
          "name": "stdout",
          "text": [
            "3481\n"
          ]
        }
      ]
    },
    {
      "cell_type": "code",
      "source": [
        "import pickle\n",
        "with open('sample_data/Nb_Ag_pairs_full.pickle','wb') as binary_writer:\n",
        "    pickle.dump(Nb_Ag_pairs_full,binary_writer)"
      ],
      "metadata": {
        "id": "oQTJm5J1-iO4"
      },
      "id": "oQTJm5J1-iO4",
      "execution_count": null,
      "outputs": []
    },
    {
      "cell_type": "code",
      "source": [
        "with open('sample_data/Nb_Ag_pairs_full_list.pickle','wb') as binary_writer:\n",
        "    pickle.dump(Nb_Ag_pairs_full_list,binary_writer)"
      ],
      "metadata": {
        "id": "ldCcHjyvayET"
      },
      "id": "ldCcHjyvayET",
      "execution_count": null,
      "outputs": []
    },
    {
      "cell_type": "code",
      "source": [
        "with open('sample_data/nanobody_sequences_full.pickle','wb') as binary_writer:\n",
        "    pickle.dump(nanobody_sequences_full,binary_writer)\n",
        "\n",
        "with open('sample_data/antigene_sequences_full.pickle','wb') as binary_writer:\n",
        "    pickle.dump(antigene_sequences_full,binary_writer)\n",
        "\n",
        "with open('sample_data/labels_full.pickle','wb') as binary_writer:\n",
        "    pickle.dump(labels_full,binary_writer)"
      ],
      "metadata": {
        "id": "eSfD2_qkL_AP"
      },
      "id": "eSfD2_qkL_AP",
      "execution_count": null,
      "outputs": []
    },
    {
      "cell_type": "code",
      "execution_count": null,
      "id": "5bb81121",
      "metadata": {
        "colab": {
          "base_uri": "https://localhost:8080/"
        },
        "id": "5bb81121",
        "outputId": "1e49778b-fd5f-4d44-aa9e-2559c7068258"
      },
      "outputs": [
        {
          "output_type": "stream",
          "name": "stdout",
          "text": [
            "Here are all of the viral species in the dataset: \n",
            " 3481 entries in total\n",
            "Yes    1753\n",
            "No     1728\n",
            "dtype: int64\n"
          ]
        }
      ],
      "source": [
        "idx = pd.Index(labels_full) # creates an index which allows counting the entries easily\n",
        "print('Here are all of the viral species in the dataset: \\n', len(idx),\"entries in total\")\n",
        "aq = idx.value_counts()\n",
        "print(aq)"
      ]
    },
    {
      "cell_type": "markdown",
      "source": [
        "# lables as Int"
      ],
      "metadata": {
        "id": "RgRILFPeNrq5"
      },
      "id": "RgRILFPeNrq5"
    },
    {
      "cell_type": "code",
      "execution_count": null,
      "id": "184b18ec",
      "metadata": {
        "colab": {
          "base_uri": "https://localhost:8080/"
        },
        "id": "184b18ec",
        "outputId": "80fb79a4-6405-4d8a-82ec-c632b6caa220"
      },
      "outputs": [
        {
          "output_type": "stream",
          "name": "stdout",
          "text": [
            "3481\n",
            "1\n",
            "1\n",
            "Attribute data preprocessing Done\n"
          ]
        }
      ],
      "source": [
        "unique_hst = list(np.unique(labels_full))\n",
        "\n",
        "int_hosts = []\n",
        "for ind_unique in range(len(labels_full)):\n",
        "    variant_tmp = labels_full[ind_unique]\n",
        "    ind_tmp = unique_hst.index(variant_tmp)\n",
        "    int_hosts.append(ind_tmp)\n",
        "\n",
        "print(len(int_hosts))\n",
        "print(int_hosts[0])\n",
        "print(int_hosts[3480])\n",
        "print(\"Attribute data preprocessing Done\")"
      ]
    },
    {
      "cell_type": "code",
      "source": [
        "Nb_Ag_pairs_full_list_2 = []\n",
        "i=0\n",
        "for nb, ag, label in zip(nanobody_sequences_full, antigene_sequences_full, int_hosts):\n",
        "  Nb_Ag_pairs_full_list_2.append((nb, ag, label))\n",
        "  i += 1\n",
        "print(i)"
      ],
      "metadata": {
        "colab": {
          "base_uri": "https://localhost:8080/"
        },
        "id": "xs_JTSM4cMfm",
        "outputId": "7d8788e5-2c60-4af4-c6a8-a7032f255823"
      },
      "id": "xs_JTSM4cMfm",
      "execution_count": null,
      "outputs": [
        {
          "output_type": "stream",
          "name": "stdout",
          "text": [
            "3481\n"
          ]
        }
      ]
    },
    {
      "cell_type": "code",
      "source": [
        "with open('sample_data/Nb_Ag_pairs_full_list_2.pickle','wb') as binary_writer:\n",
        "    pickle.dump(Nb_Ag_pairs_full_list_2,binary_writer)"
      ],
      "metadata": {
        "id": "rIm_01rMclWN"
      },
      "id": "rIm_01rMclWN",
      "execution_count": null,
      "outputs": []
    }
  ],
  "metadata": {
    "kernelspec": {
      "display_name": "Python 3 (ipykernel)",
      "language": "python",
      "name": "python3"
    },
    "language_info": {
      "codemirror_mode": {
        "name": "ipython",
        "version": 3
      },
      "file_extension": ".py",
      "mimetype": "text/x-python",
      "name": "python",
      "nbconvert_exporter": "python",
      "pygments_lexer": "ipython3",
      "version": "3.10.9"
    },
    "colab": {
      "provenance": []
    }
  },
  "nbformat": 4,
  "nbformat_minor": 5
}